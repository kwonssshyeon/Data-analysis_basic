{
 "cells": [
  {
   "cell_type": "code",
   "execution_count": 13,
   "id": "e10badda",
   "metadata": {},
   "outputs": [
    {
     "name": "stdout",
     "output_type": "stream",
     "text": [
      "['1907-10-01', '108', '13.5', '7.9', 20.7]\n",
      "['1907-10-02', '108', '16.2', '7.9', 22.0]\n",
      "['1907-10-03', '108', '16.2', '13.1', 21.3]\n",
      "['1907-10-04', '108', '16.5', '11.2', 22.0]\n",
      "['1907-10-05', '108', '17.6', '10.9', 25.4]\n",
      "['1907-10-06', '108', '13', '11.2', 21.3]\n",
      "['1907-10-07', '108', '11.3', '6.3', 16.1]\n",
      "['1907-10-08', '108', '8.9', '3.9', 14.9]\n",
      "['1907-10-09', '108', '11.6', '3.8', 21.1]\n",
      "['1907-10-10', '108', '14.2', '6.4', 24.1]\n",
      ".\n",
      ".\n",
      ".\n",
      ".\n",
      ".\n",
      ".\n",
      ".\n",
      ".\n",
      ".\n",
      ".\n"
     ]
    },
    {
     "data": {
      "image/png": "[encoded data removed]",
      "text/plain": [
       "<Figure size 432x288 with 1 Axes>"
      ]
     },
     "metadata": {
      "needs_background": "light"
     },
     "output_type": "display_data"
    },
    {
     "name": "stdout",
     "output_type": "stream",
     "text": [
      "기상 관측 이래 서울의 최고 기온이 가장 높았던 날은 2018-08-01로,  39.6 도 였습니다.\n"
     ]
    }
   ],
   "source": [
    "import csv\n",
    "import matplotlib.pyplot as plt\n",
    "\n",
    "f= open('seoul.csv','r',encoding='cp949')\n",
    "\n",
    "max_temp = -999\n",
    "max_data =''\n",
    "i = 0\n",
    "\n",
    "data = csv.reader(f,delimiter=',')\n",
    "header = next(data)\n",
    "for row in data :\n",
    "    if row[-1]=='':\n",
    "        row[-1]=-999\n",
    "    row[-1]=float(row[-1])\n",
    "    \n",
    "    if max_temp<row[-1]:\n",
    "        max_data=row[0];\n",
    "        max_temp = row[-1]\n",
    "    \n",
    "    if i<10 :\n",
    "        i+=1\n",
    "        print(row)\n",
    "    elif i<20 :\n",
    "        i+=1\n",
    "        print('.')\n",
    "\n",
    "plt.title('plotting')\n",
    "plt.plot([10,20,30,40],color='r',linestyle='--',label='asc')\n",
    "plt.plot([1,2,3,4],[12,43,25,45],color='g',linestyle=':',label='zigzag')\n",
    "plt.plot([40,30,20,10,0],'b.',label='desc')\n",
    "plt.legend()\n",
    "plt.show()\n",
    "\n",
    "f.close()\n",
    "\n",
    "print('기상 관측 이래 서울의 최고 기온이 가장 높았던 날은',max_data+'로, ',max_temp,'도 였습니다.')"
   ]
  },
  {
   "cell_type": "code",
   "execution_count": null,
   "id": "f78b5b96",
   "metadata": {},
   "outputs": [],
   "source": []
  },
  {
   "cell_type": "code",
   "execution_count": null,
   "id": "27dea34d",
   "metadata": {},
   "outputs": [],
   "source": []
  }
 ],
 "metadata": {
  "kernelspec": {
   "display_name": "Python 3 (ipykernel)",
   "language": "python",
   "name": "python3"
  },
  "language_info": {
   "codemirror_mode": {
    "name": "ipython",
    "version": 3
   },
   "file_extension": ".py",
   "mimetype": "text/x-python",
   "name": "python",
   "nbconvert_exporter": "python",
   "pygments_lexer": "ipython3",
   "version": "3.9.7"
  }
 },
 "nbformat": 4,
 "nbformat_minor": 5
}
